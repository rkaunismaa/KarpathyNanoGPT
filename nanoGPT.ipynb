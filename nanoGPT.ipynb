{
 "cells": [
  {
   "attachments": {},
   "cell_type": "markdown",
   "metadata": {},
   "source": [
    "Monday, July 3, 2023\n",
    "\n",
    "This notebook will contain everything needed to run nanoGPT in easily digestable chunks.\n",
    "\n",
    "The workflow is to start with prepare.py, then train with train.py, then sample with sample.py"
   ]
  },
  {
   "attachments": {},
   "cell_type": "markdown",
   "metadata": {},
   "source": [
    "#### Prepare.py"
   ]
  },
  {
   "cell_type": "code",
   "execution_count": 1,
   "metadata": {},
   "outputs": [],
   "source": [
    "\"\"\"\n",
    "Prepare the Shakespeare dataset for character-level language modeling.\n",
    "So instead of encoding with GPT-2 BPE tokens, we just map characters to ints.\n",
    "Will save train.bin, val.bin containing the ids, and meta.pkl containing the\n",
    "encoder and decoder and some other related info.\n",
    "\"\"\"\n",
    "import os\n",
    "import time\n",
    "import pickle\n",
    "import requests\n",
    "import numpy as np\n"
   ]
  },
  {
   "cell_type": "code",
   "execution_count": 2,
   "metadata": {},
   "outputs": [],
   "source": [
    "# download the tiny shakespeare dataset\n",
    "# input_file_path = os.path.join(os.path.dirname(__file__), 'input.txt')\n",
    "input_file_path = 'input.txt'\n"
   ]
  },
  {
   "cell_type": "code",
   "execution_count": 3,
   "metadata": {},
   "outputs": [],
   "source": [
    "if not os.path.exists(input_file_path):\n",
    "    data_url = 'https://raw.githubusercontent.com/karpathy/char-rnn/master/data/tinyshakespeare/input.txt'\n",
    "    with open(input_file_path, 'w') as f:\n",
    "        f.write(requests.get(data_url).text)"
   ]
  },
  {
   "cell_type": "code",
   "execution_count": 4,
   "metadata": {},
   "outputs": [
    {
     "name": "stdout",
     "output_type": "stream",
     "text": [
      "length of dataset in characters: 1,115,394\n"
     ]
    }
   ],
   "source": [
    "with open(input_file_path, 'r') as f:\n",
    "    data = f.read()\n",
    "print(f\"length of dataset in characters: {len(data):,}\")"
   ]
  },
  {
   "cell_type": "code",
   "execution_count": 5,
   "metadata": {},
   "outputs": [
    {
     "name": "stdout",
     "output_type": "stream",
     "text": [
      "all the unique characters: \n",
      " !$&',-.3:;?ABCDEFGHIJKLMNOPQRSTUVWXYZabcdefghijklmnopqrstuvwxyz\n",
      "vocab size: 65\n"
     ]
    }
   ],
   "source": [
    "# get all the unique characters that occur in this text\n",
    "chars = sorted(list(set(data)))\n",
    "vocab_size = len(chars)\n",
    "print(\"all the unique characters:\", ''.join(chars))\n",
    "print(f\"vocab size: {vocab_size:,}\")\n"
   ]
  },
  {
   "cell_type": "code",
   "execution_count": 6,
   "metadata": {},
   "outputs": [],
   "source": [
    "# create a mapping from characters to integers\n",
    "stoi = { ch:i for i,ch in enumerate(chars) }\n",
    "itos = { i:ch for i,ch in enumerate(chars) }"
   ]
  },
  {
   "cell_type": "code",
   "execution_count": 7,
   "metadata": {},
   "outputs": [],
   "source": [
    "def encode(s):\n",
    "    return [stoi[c] for c in s] # encoder: take a string, output a list of integers"
   ]
  },
  {
   "cell_type": "code",
   "execution_count": 8,
   "metadata": {},
   "outputs": [],
   "source": [
    "def decode(l):\n",
    "    return ''.join([itos[i] for i in l]) # decoder: take a list of integers, output a string\n"
   ]
  },
  {
   "cell_type": "code",
   "execution_count": 9,
   "metadata": {},
   "outputs": [],
   "source": [
    "# create the train and test splits\n",
    "n = len(data)\n",
    "train_data = data[:int(n*0.9)]\n",
    "val_data = data[int(n*0.9):]"
   ]
  },
  {
   "cell_type": "code",
   "execution_count": 10,
   "metadata": {},
   "outputs": [
    {
     "name": "stdout",
     "output_type": "stream",
     "text": [
      "train has 1,003,854 tokens\n",
      "val has 111,540 tokens\n"
     ]
    }
   ],
   "source": [
    "# encode both to integers\n",
    "train_ids = encode(train_data)\n",
    "val_ids = encode(val_data)\n",
    "print(f\"train has {len(train_ids):,} tokens\")\n",
    "print(f\"val has {len(val_ids):,} tokens\")"
   ]
  },
  {
   "cell_type": "code",
   "execution_count": 11,
   "metadata": {},
   "outputs": [],
   "source": [
    "# export to bin files\n",
    "train_ids = np.array(train_ids, dtype=np.uint16)\n",
    "val_ids = np.array(val_ids, dtype=np.uint16)\n",
    "# train_ids.tofile(os.path.join(os.path.dirname(__file__), 'train.bin'))\n",
    "# val_ids.tofile(os.path.join(os.path.dirname(__file__), 'val.bin'))\n",
    "train_ids.tofile('train.bin')\n",
    "val_ids.tofile('val.bin')"
   ]
  },
  {
   "cell_type": "code",
   "execution_count": 12,
   "metadata": {},
   "outputs": [],
   "source": [
    "# save the meta information as well, to help us encode/decode later\n",
    "meta = {\n",
    "    'vocab_size': vocab_size,\n",
    "    'itos': itos,\n",
    "    'stoi': stoi,\n",
    "}\n",
    "# with open(os.path.join(os.path.dirname(__file__), 'meta.pkl'), 'wb') as f:\n",
    "#     pickle.dump(meta, f)\n",
    "with open('meta.pkl', 'wb') as f:\n",
    "    pickle.dump(meta, f)"
   ]
  },
  {
   "attachments": {},
   "cell_type": "markdown",
   "metadata": {},
   "source": []
  },
  {
   "attachments": {},
   "cell_type": "markdown",
   "metadata": {},
   "source": [
    "#### Train.py"
   ]
  },
  {
   "cell_type": "code",
   "execution_count": 13,
   "metadata": {},
   "outputs": [],
   "source": [
    "import math\n",
    "import pickle\n",
    "from contextlib import nullcontext"
   ]
  },
  {
   "cell_type": "code",
   "execution_count": 14,
   "metadata": {},
   "outputs": [],
   "source": [
    "import torch\n",
    "from torch.nn.parallel import DistributedDataParallel as DDP\n",
    "from torch.distributed import init_process_group, destroy_process_group"
   ]
  },
  {
   "cell_type": "code",
   "execution_count": 15,
   "metadata": {},
   "outputs": [],
   "source": [
    "# -----------------------------------------------------------------------------\n",
    "# default config values designed to train a gpt2 (124M) on OpenWebText\n",
    "# I/O\n",
    "out_dir = 'out'\n",
    "eval_interval = 2000\n",
    "log_interval = 1\n",
    "eval_iters = 200\n",
    "eval_only = False # if True, script exits right after the first eval\n",
    "always_save_checkpoint = True # if True, always save a checkpoint after each eval\n",
    "init_from = 'scratch' # 'scratch' or 'resume' or 'gpt2*'\n",
    "# wandb logging\n",
    "wandb_log = False # disabled by default\n",
    "wandb_project = 'owt'\n",
    "wandb_run_name = 'gpt2' # 'run' + str(time.time())\n",
    "# data\n",
    "dataset = 'openwebtext'\n",
    "gradient_accumulation_steps = 5 * 8 # used to simulate larger batch sizes\n",
    "batch_size = 12 # if gradient_accumulation_steps > 1, this is the micro-batch size\n",
    "block_size = 1024\n",
    "# model\n",
    "n_layer = 12\n",
    "n_head = 12\n",
    "n_embd = 768\n",
    "dropout = 0.0 # for pretraining 0 is good, for finetuning try 0.1+\n",
    "bias = False # do we use bias inside LayerNorm and Linear layers?\n",
    "# adamw optimizer\n",
    "learning_rate = 6e-4 # max learning rate\n",
    "max_iters = 600000 # total number of training iterations\n",
    "weight_decay = 1e-1\n",
    "beta1 = 0.9\n",
    "beta2 = 0.95\n",
    "grad_clip = 1.0 # clip gradients at this value, or disable if == 0.0\n",
    "# learning rate decay settings\n",
    "decay_lr = True # whether to decay the learning rate\n",
    "warmup_iters = 2000 # how many steps to warm up for\n",
    "lr_decay_iters = 600000 # should be ~= max_iters per Chinchilla\n",
    "min_lr = 6e-5 # minimum learning rate, should be ~= learning_rate/10 per Chinchilla\n",
    "# DDP settings\n",
    "backend = 'nccl' # 'nccl', 'gloo', etc.\n",
    "# system\n",
    "device = 'cuda' # examples: 'cpu', 'cuda', 'cuda:0', 'cuda:1' etc., or try 'mps' on macbooks\n",
    "# This was bfloat16, but it was blowing up ... so I set it to float16 and it works.\n",
    "# dtype = 'float16' # 'float32', 'bfloat16', or 'float16', the latter will auto implement a GradScaler\n",
    "dtype = 'bfloat16' if torch.cuda.is_available() and torch.cuda.is_bf16_supported() else 'float16' # 'float32', 'bfloat16', or 'float16', the latter will auto implement a GradScaler\n",
    "compile = True # use PyTorch 2.0 to compile the model to be faster"
   ]
  },
  {
   "cell_type": "code",
   "execution_count": 16,
   "metadata": {},
   "outputs": [],
   "source": [
    "config_keys = [k for k,v in globals().items() if not k.startswith('_') and isinstance(v, (int, float, bool, str))]\n",
    "exec(open('config/train_shakespeare_char.py').read()) # overrides from command line or config file\n",
    "config = {k: globals()[k] for k in config_keys} # will be useful for logging"
   ]
  },
  {
   "cell_type": "code",
   "execution_count": 17,
   "metadata": {},
   "outputs": [],
   "source": [
    "# if not ddp, we are running on a single gpu, and one process\n",
    "master_process = True\n",
    "seed_offset = 0\n",
    "ddp_world_size = 1"
   ]
  },
  {
   "cell_type": "code",
   "execution_count": 18,
   "metadata": {},
   "outputs": [
    {
     "name": "stdout",
     "output_type": "stream",
     "text": [
      "tokens per iteration will be: 4,096\n"
     ]
    }
   ],
   "source": [
    "tokens_per_iter = gradient_accumulation_steps * ddp_world_size * batch_size * block_size\n",
    "print(f\"tokens per iteration will be: {tokens_per_iter:,}\")"
   ]
  },
  {
   "cell_type": "code",
   "execution_count": 19,
   "metadata": {},
   "outputs": [],
   "source": [
    "if master_process:\n",
    "    os.makedirs(out_dir, exist_ok=True)"
   ]
  },
  {
   "cell_type": "code",
   "execution_count": 20,
   "metadata": {},
   "outputs": [],
   "source": [
    "torch.manual_seed(1337 + seed_offset)\n",
    "torch.backends.cuda.matmul.allow_tf32 = True # allow tf32 on matmul\n",
    "torch.backends.cudnn.allow_tf32 = True # allow tf32 on cudnn\n",
    "device_type = 'cuda' if 'cuda' in device else 'cpu' # for later use in torch.autocast\n",
    "# note: float16 data type will automatically use a GradScaler\n",
    "ptdtype = {'float32': torch.float32, 'bfloat16': torch.bfloat16, 'float16': torch.float16}[dtype]\n",
    "ctx = nullcontext() if device_type == 'cpu' else torch.amp.autocast(device_type=device_type, dtype=ptdtype)"
   ]
  },
  {
   "cell_type": "code",
   "execution_count": 21,
   "metadata": {},
   "outputs": [
    {
     "data": {
      "text/plain": [
       "'shakespeare_char'"
      ]
     },
     "execution_count": 21,
     "metadata": {},
     "output_type": "execute_result"
    }
   ],
   "source": [
    "dataset"
   ]
  },
  {
   "cell_type": "code",
   "execution_count": 22,
   "metadata": {},
   "outputs": [],
   "source": [
    "# poor man's data loader\n",
    "# data_dir = os.path.join('data', dataset)\n",
    "# osCwd = os.getcwd()\n",
    "# data_dir = os.path.join('data', dataset)\n",
    "# train_data = np.memmap(os.path.join(data_dir, 'train.bin'), dtype=np.uint16, mode='r')\n",
    "# val_data = np.memmap(os.path.join(data_dir, 'val.bin'), dtype=np.uint16, mode='r')\n",
    "\n",
    "train_data = np.memmap('train.bin', dtype=np.uint16, mode='r')\n",
    "val_data = np.memmap('val.bin', dtype=np.uint16, mode='r')"
   ]
  },
  {
   "cell_type": "code",
   "execution_count": 23,
   "metadata": {},
   "outputs": [],
   "source": [
    "def get_batch(split):\n",
    "    data = train_data if split == 'train' else val_data\n",
    "    ix = torch.randint(len(data) - block_size, (batch_size,))\n",
    "    x = torch.stack([torch.from_numpy((data[i:i+block_size]).astype(np.int64)) for i in ix])\n",
    "    y = torch.stack([torch.from_numpy((data[i+1:i+1+block_size]).astype(np.int64)) for i in ix])\n",
    "    if device_type == 'cuda':\n",
    "        # pin arrays x,y, which allows us to move them to GPU asynchronously (non_blocking=True)\n",
    "        x, y = x.pin_memory().to(device, non_blocking=True), y.pin_memory().to(device, non_blocking=True)\n",
    "    else:\n",
    "        x, y = x.to(device), y.to(device)\n",
    "    return x, y"
   ]
  },
  {
   "cell_type": "code",
   "execution_count": 24,
   "metadata": {},
   "outputs": [],
   "source": [
    "# init these up here, can override if init_from='resume' (i.e. from a checkpoint)\n",
    "iter_num = 0\n",
    "best_val_loss = 1e9"
   ]
  },
  {
   "cell_type": "code",
   "execution_count": 25,
   "metadata": {},
   "outputs": [
    {
     "name": "stdout",
     "output_type": "stream",
     "text": [
      "found vocab_size = 65 (inside meta.pkl)\n"
     ]
    }
   ],
   "source": [
    "# attempt to derive vocab_size from the dataset\n",
    "# meta_path = os.path.join(data_dir, 'meta.pkl')\n",
    "meta_path = 'meta.pkl'\n",
    "meta_vocab_size = None\n",
    "if os.path.exists(meta_path):\n",
    "    with open(meta_path, 'rb') as f:\n",
    "        meta = pickle.load(f)\n",
    "    meta_vocab_size = meta['vocab_size']\n",
    "    print(f\"found vocab_size = {meta_vocab_size} (inside {meta_path})\")"
   ]
  },
  {
   "cell_type": "code",
   "execution_count": 26,
   "metadata": {},
   "outputs": [],
   "source": [
    "# model init\n",
    "model_args = dict(n_layer=n_layer, n_head=n_head, n_embd=n_embd, block_size=block_size,\n",
    "                  bias=bias, vocab_size=None, dropout=dropout) # start with model_args from command line"
   ]
  },
  {
   "cell_type": "code",
   "execution_count": 27,
   "metadata": {},
   "outputs": [],
   "source": [
    "from model import GPTConfig, GPT"
   ]
  },
  {
   "cell_type": "code",
   "execution_count": 28,
   "metadata": {},
   "outputs": [
    {
     "name": "stdout",
     "output_type": "stream",
     "text": [
      "Initializing a new model from scratch\n",
      "number of parameters: 10.65M\n"
     ]
    }
   ],
   "source": [
    "if init_from == 'scratch':\n",
    "    # init a new model from scratch\n",
    "    print(\"Initializing a new model from scratch\")\n",
    "    # determine the vocab size we'll use for from-scratch training\n",
    "    if meta_vocab_size is None:\n",
    "        print(\"defaulting to vocab_size of GPT-2 to 50304 (50257 rounded up for efficiency)\")\n",
    "    model_args['vocab_size'] = meta_vocab_size if meta_vocab_size is not None else 50304\n",
    "    gptconf = GPTConfig(**model_args)\n",
    "    model = GPT(gptconf)\n",
    "elif init_from == 'resume':\n",
    "    print(f\"Resuming training from {out_dir}\")\n",
    "    # resume training from a checkpoint.\n",
    "    ckpt_path = os.path.join(out_dir, 'ckpt.pt')\n",
    "    checkpoint = torch.load(ckpt_path, map_location=device)\n",
    "    checkpoint_model_args = checkpoint['model_args']\n",
    "    # force these config attributes to be equal otherwise we can't even resume training\n",
    "    # the rest of the attributes (e.g. dropout) can stay as desired from command line\n",
    "    for k in ['n_layer', 'n_head', 'n_embd', 'block_size', 'bias', 'vocab_size']:\n",
    "        model_args[k] = checkpoint_model_args[k]\n",
    "    # create the model\n",
    "    gptconf = GPTConfig(**model_args)\n",
    "    model = GPT(gptconf)\n",
    "    state_dict = checkpoint['model']\n",
    "    # fix the keys of the state dictionary :(\n",
    "    # honestly no idea how checkpoints sometimes get this prefix, have to debug more\n",
    "    unwanted_prefix = '_orig_mod.'\n",
    "    for k,v in list(state_dict.items()):\n",
    "        if k.startswith(unwanted_prefix):\n",
    "            state_dict[k[len(unwanted_prefix):]] = state_dict.pop(k)\n",
    "    model.load_state_dict(state_dict)\n",
    "    iter_num = checkpoint['iter_num']\n",
    "    best_val_loss = checkpoint['best_val_loss']\n",
    "elif init_from.startswith('gpt2'):\n",
    "    print(f\"Initializing from OpenAI GPT-2 weights: {init_from}\")\n",
    "    # initialize from OpenAI GPT-2 weights\n",
    "    override_args = dict(dropout=dropout)\n",
    "    model = GPT.from_pretrained(init_from, override_args)\n",
    "    # read off the created config params, so we can store them into checkpoint correctly\n",
    "    for k in ['n_layer', 'n_head', 'n_embd', 'block_size', 'bias', 'vocab_size']:\n",
    "        model_args[k] = getattr(model.config, k)"
   ]
  },
  {
   "cell_type": "code",
   "execution_count": 29,
   "metadata": {},
   "outputs": [],
   "source": [
    "# crop down the model block size if desired, using model surgery\n",
    "if block_size < model.config.block_size:\n",
    "    model.crop_block_size(block_size)\n",
    "    model_args['block_size'] = block_size # so that the checkpoint will have the right value"
   ]
  },
  {
   "cell_type": "code",
   "execution_count": 30,
   "metadata": {},
   "outputs": [
    {
     "data": {
      "text/plain": [
       "GPT(\n",
       "  (transformer): ModuleDict(\n",
       "    (wte): Embedding(65, 384)\n",
       "    (wpe): Embedding(256, 384)\n",
       "    (drop): Dropout(p=0.2, inplace=False)\n",
       "    (h): ModuleList(\n",
       "      (0-5): 6 x Block(\n",
       "        (ln_1): LayerNorm()\n",
       "        (attn): CausalSelfAttention(\n",
       "          (c_attn): Linear(in_features=384, out_features=1152, bias=False)\n",
       "          (c_proj): Linear(in_features=384, out_features=384, bias=False)\n",
       "          (attn_dropout): Dropout(p=0.2, inplace=False)\n",
       "          (resid_dropout): Dropout(p=0.2, inplace=False)\n",
       "        )\n",
       "        (ln_2): LayerNorm()\n",
       "        (mlp): MLP(\n",
       "          (c_fc): Linear(in_features=384, out_features=1536, bias=False)\n",
       "          (c_proj): Linear(in_features=1536, out_features=384, bias=False)\n",
       "          (dropout): Dropout(p=0.2, inplace=False)\n",
       "        )\n",
       "      )\n",
       "    )\n",
       "    (ln_f): LayerNorm()\n",
       "  )\n",
       "  (lm_head): Linear(in_features=384, out_features=65, bias=False)\n",
       ")"
      ]
     },
     "execution_count": 30,
     "metadata": {},
     "output_type": "execute_result"
    }
   ],
   "source": [
    "model.to(device)"
   ]
  },
  {
   "attachments": {},
   "cell_type": "markdown",
   "metadata": {},
   "source": []
  },
  {
   "cell_type": "code",
   "execution_count": 31,
   "metadata": {},
   "outputs": [],
   "source": [
    "# initialize a GradScaler. If enabled=False scaler is a no-op\n",
    "scaler = torch.cuda.amp.GradScaler(enabled=(dtype == 'float16'))"
   ]
  },
  {
   "cell_type": "code",
   "execution_count": 32,
   "metadata": {},
   "outputs": [
    {
     "name": "stdout",
     "output_type": "stream",
     "text": [
      "using fused AdamW: True\n"
     ]
    }
   ],
   "source": [
    "# optimizer\n",
    "optimizer = model.configure_optimizers(weight_decay, learning_rate, (beta1, beta2), device_type)\n",
    "if init_from == 'resume':\n",
    "    optimizer.load_state_dict(checkpoint['optimizer'])\n",
    "checkpoint = None # free up memory\n"
   ]
  },
  {
   "cell_type": "code",
   "execution_count": 33,
   "metadata": {},
   "outputs": [
    {
     "name": "stdout",
     "output_type": "stream",
     "text": [
      "compiling the model... (takes a ~minute)\n"
     ]
    }
   ],
   "source": [
    "# compile the model\n",
    "if compile:\n",
    "    print(\"compiling the model... (takes a ~minute)\")\n",
    "    unoptimized_model = model\n",
    "    model = torch.compile(model) # requires PyTorch 2.0"
   ]
  },
  {
   "cell_type": "code",
   "execution_count": 34,
   "metadata": {},
   "outputs": [],
   "source": [
    "# helps estimate an arbitrarily accurate loss over either split using many batches\n",
    "@torch.no_grad()\n",
    "def estimate_loss():\n",
    "    out = {}\n",
    "    model.eval()\n",
    "    for split in ['train', 'val']:\n",
    "        losses = torch.zeros(eval_iters)\n",
    "        for k in range(eval_iters):\n",
    "            X, Y = get_batch(split)\n",
    "            with ctx:\n",
    "                logits, loss = model(X, Y)\n",
    "            losses[k] = loss.item()\n",
    "        out[split] = losses.mean()\n",
    "    model.train()\n",
    "    return out"
   ]
  },
  {
   "cell_type": "code",
   "execution_count": 35,
   "metadata": {},
   "outputs": [],
   "source": [
    "# learning rate decay scheduler (cosine with warmup)\n",
    "def get_lr(it):\n",
    "    # 1) linear warmup for warmup_iters steps\n",
    "    if it < warmup_iters:\n",
    "        return learning_rate * it / warmup_iters\n",
    "    # 2) if it > lr_decay_iters, return min learning rate\n",
    "    if it > lr_decay_iters:\n",
    "        return min_lr\n",
    "    # 3) in between, use cosine decay down to min learning rate\n",
    "    decay_ratio = (it - warmup_iters) / (lr_decay_iters - warmup_iters)\n",
    "    assert 0 <= decay_ratio <= 1\n",
    "    coeff = 0.5 * (1.0 + math.cos(math.pi * decay_ratio)) # coeff ranges 0..1\n",
    "    return min_lr + coeff * (learning_rate - min_lr)\n"
   ]
  },
  {
   "cell_type": "code",
   "execution_count": 36,
   "metadata": {},
   "outputs": [
    {
     "data": {
      "text/plain": [
       "False"
      ]
     },
     "execution_count": 36,
     "metadata": {},
     "output_type": "execute_result"
    }
   ],
   "source": [
    "wandb_log"
   ]
  },
  {
   "cell_type": "code",
   "execution_count": 37,
   "metadata": {},
   "outputs": [
    {
     "data": {
      "text/plain": [
       "True"
      ]
     },
     "execution_count": 37,
     "metadata": {},
     "output_type": "execute_result"
    }
   ],
   "source": [
    "master_process"
   ]
  },
  {
   "cell_type": "code",
   "execution_count": 38,
   "metadata": {},
   "outputs": [],
   "source": [
    "# logging\n",
    "if wandb_log and master_process:\n",
    "    import wandb\n",
    "    wandb.init(project=wandb_project, name=wandb_run_name, config=config)"
   ]
  },
  {
   "cell_type": "code",
   "execution_count": 40,
   "metadata": {},
   "outputs": [],
   "source": [
    "ddp = False"
   ]
  },
  {
   "cell_type": "code",
   "execution_count": 41,
   "metadata": {},
   "outputs": [
    {
     "name": "stdout",
     "output_type": "stream",
     "text": [
      "step 0: train loss 4.2883, val loss 4.2812\n"
     ]
    },
    {
     "name": "stderr",
     "output_type": "stream",
     "text": [
      "[2023-07-03 23:30:37,771] torch._inductor.utils: [WARNING] using triton random, expect difference from eager\n",
      "[2023-07-03 23:30:38,000] torch._inductor.utils: [WARNING] using triton random, expect difference from eager\n",
      "[2023-07-03 23:30:38,323] torch._inductor.utils: [WARNING] using triton random, expect difference from eager\n",
      "[2023-07-03 23:30:38,540] torch._inductor.utils: [WARNING] using triton random, expect difference from eager\n",
      "[2023-07-03 23:30:38,830] torch._inductor.utils: [WARNING] using triton random, expect difference from eager\n",
      "[2023-07-03 23:30:39,049] torch._inductor.utils: [WARNING] using triton random, expect difference from eager\n",
      "[2023-07-03 23:30:39,339] torch._inductor.utils: [WARNING] using triton random, expect difference from eager\n",
      "[2023-07-03 23:30:39,651] torch._inductor.utils: [WARNING] using triton random, expect difference from eager\n",
      "[2023-07-03 23:30:39,944] torch._inductor.utils: [WARNING] using triton random, expect difference from eager\n",
      "[2023-07-03 23:30:40,161] torch._inductor.utils: [WARNING] using triton random, expect difference from eager\n",
      "[2023-07-03 23:30:40,445] torch._inductor.utils: [WARNING] using triton random, expect difference from eager\n",
      "[2023-07-03 23:30:40,660] torch._inductor.utils: [WARNING] using triton random, expect difference from eager\n"
     ]
    },
    {
     "name": "stdout",
     "output_type": "stream",
     "text": [
      "iter 0: loss 4.2670, time 10129.14ms, mfu -100.00%\n",
      "iter 10: loss 3.3124, time 28.57ms, mfu 3.26%\n",
      "iter 20: loss 2.8612, time 28.53ms, mfu 3.26%\n",
      "iter 30: loss 2.6307, time 28.51ms, mfu 3.26%\n",
      "iter 40: loss 2.5776, time 28.66ms, mfu 3.26%\n",
      "iter 50: loss 2.5437, time 28.75ms, mfu 3.26%\n",
      "iter 60: loss 2.5572, time 28.58ms, mfu 3.26%\n",
      "iter 70: loss 2.5614, time 28.52ms, mfu 3.26%\n",
      "iter 80: loss 2.5348, time 28.54ms, mfu 3.26%\n",
      "iter 90: loss 2.5393, time 28.22ms, mfu 3.26%\n",
      "iter 100: loss 2.5106, time 28.51ms, mfu 3.26%\n",
      "iter 110: loss 2.5044, time 28.45ms, mfu 3.27%\n",
      "iter 120: loss 2.4943, time 28.77ms, mfu 3.26%\n",
      "iter 130: loss 2.4832, time 28.34ms, mfu 3.26%\n",
      "iter 140: loss 2.4820, time 28.59ms, mfu 3.26%\n",
      "iter 150: loss 2.4769, time 28.47ms, mfu 3.27%\n",
      "iter 160: loss 2.4631, time 28.52ms, mfu 3.27%\n",
      "iter 170: loss 2.4412, time 28.50ms, mfu 3.27%\n",
      "iter 180: loss 2.5045, time 28.51ms, mfu 3.27%\n",
      "iter 190: loss 2.4643, time 28.65ms, mfu 3.26%\n",
      "iter 200: loss 2.4485, time 28.64ms, mfu 3.26%\n",
      "iter 210: loss 2.4759, time 28.49ms, mfu 3.26%\n",
      "iter 220: loss 2.4378, time 28.72ms, mfu 3.26%\n",
      "iter 230: loss 2.3862, time 28.75ms, mfu 3.26%\n",
      "iter 240: loss 2.4085, time 28.91ms, mfu 3.26%\n",
      "step 250: train loss 2.3990, val loss 2.4467\n",
      "saving checkpoint to out-shakespeare-char\n",
      "iter 250: loss 2.4170, time 4057.51ms, mfu 2.93%\n",
      "iter 260: loss 2.4315, time 28.65ms, mfu 2.96%\n",
      "iter 270: loss 2.4218, time 28.63ms, mfu 2.99%\n",
      "iter 280: loss 2.3679, time 28.65ms, mfu 3.02%\n",
      "iter 290: loss 2.3712, time 28.66ms, mfu 3.04%\n",
      "iter 300: loss 2.3733, time 28.90ms, mfu 3.06%\n",
      "iter 310: loss 2.3502, time 28.76ms, mfu 3.08%\n",
      "iter 320: loss 2.3670, time 28.90ms, mfu 3.09%\n",
      "iter 330: loss 2.3091, time 28.75ms, mfu 3.11%\n",
      "iter 340: loss 2.2884, time 28.98ms, mfu 3.12%\n",
      "iter 350: loss 2.2607, time 28.65ms, mfu 3.13%\n",
      "iter 360: loss 2.2198, time 28.71ms, mfu 3.14%\n",
      "iter 370: loss 2.2139, time 28.81ms, mfu 3.15%\n",
      "iter 380: loss 2.1460, time 28.69ms, mfu 3.16%\n",
      "iter 390: loss 2.1444, time 28.91ms, mfu 3.17%\n",
      "iter 400: loss 2.1398, time 28.62ms, mfu 3.18%\n",
      "iter 410: loss 2.0767, time 28.70ms, mfu 3.18%\n",
      "iter 420: loss 2.0944, time 28.84ms, mfu 3.19%\n",
      "iter 430: loss 2.1395, time 28.70ms, mfu 3.19%\n",
      "iter 440: loss 2.0543, time 28.77ms, mfu 3.20%\n",
      "iter 450: loss 2.1101, time 28.66ms, mfu 3.20%\n",
      "iter 460: loss 2.0396, time 28.65ms, mfu 3.21%\n",
      "iter 470: loss 2.0038, time 28.73ms, mfu 3.21%\n",
      "iter 480: loss 2.0577, time 28.61ms, mfu 3.22%\n",
      "iter 490: loss 1.9985, time 28.81ms, mfu 3.22%\n",
      "step 500: train loss 1.9588, val loss 2.0688\n",
      "saving checkpoint to out-shakespeare-char\n",
      "iter 500: loss 1.9976, time 3056.89ms, mfu 2.90%\n",
      "iter 510: loss 2.0000, time 28.69ms, mfu 2.93%\n",
      "iter 520: loss 2.0409, time 28.51ms, mfu 2.97%\n",
      "iter 530: loss 2.0107, time 28.68ms, mfu 3.00%\n",
      "iter 540: loss 1.9353, time 28.94ms, mfu 3.02%\n",
      "iter 550: loss 1.9367, time 28.56ms, mfu 3.04%\n",
      "iter 560: loss 2.0688, time 29.15ms, mfu 3.06%\n",
      "iter 570: loss 1.9481, time 28.79ms, mfu 3.08%\n",
      "iter 580: loss 1.8928, time 28.62ms, mfu 3.09%\n",
      "iter 590: loss 1.9094, time 28.71ms, mfu 3.11%\n",
      "iter 600: loss 1.9395, time 28.71ms, mfu 3.12%\n",
      "iter 610: loss 1.9030, time 28.90ms, mfu 3.13%\n",
      "iter 620: loss 1.8766, time 28.70ms, mfu 3.14%\n",
      "iter 630: loss 1.9452, time 28.80ms, mfu 3.15%\n",
      "iter 640: loss 1.9324, time 28.73ms, mfu 3.16%\n",
      "iter 650: loss 1.8972, time 28.75ms, mfu 3.17%\n",
      "iter 660: loss 1.8891, time 28.70ms, mfu 3.18%\n",
      "iter 670: loss 1.9155, time 28.63ms, mfu 3.18%\n",
      "iter 680: loss 1.8779, time 28.59ms, mfu 3.19%\n",
      "iter 690: loss 1.8912, time 28.72ms, mfu 3.20%\n",
      "iter 700: loss 1.8381, time 28.70ms, mfu 3.20%\n",
      "iter 710: loss 1.7626, time 28.60ms, mfu 3.21%\n",
      "iter 720: loss 1.7696, time 29.03ms, mfu 3.21%\n",
      "iter 730: loss 1.8418, time 28.81ms, mfu 3.21%\n",
      "iter 740: loss 1.7230, time 28.85ms, mfu 3.21%\n",
      "step 750: train loss 1.7347, val loss 1.9026\n",
      "saving checkpoint to out-shakespeare-char\n",
      "iter 750: loss 1.7624, time 2727.17ms, mfu 2.89%\n",
      "iter 760: loss 1.8096, time 28.68ms, mfu 2.93%\n",
      "iter 770: loss 1.8016, time 28.66ms, mfu 2.96%\n",
      "iter 780: loss 1.8487, time 28.61ms, mfu 2.99%\n",
      "iter 790: loss 1.7749, time 28.70ms, mfu 3.02%\n",
      "iter 800: loss 1.7478, time 28.70ms, mfu 3.04%\n",
      "iter 810: loss 1.8036, time 28.86ms, mfu 3.06%\n",
      "iter 820: loss 1.7806, time 28.68ms, mfu 3.08%\n",
      "iter 830: loss 1.7334, time 28.63ms, mfu 3.10%\n",
      "iter 840: loss 1.7456, time 28.83ms, mfu 3.11%\n",
      "iter 850: loss 1.7971, time 28.71ms, mfu 3.12%\n",
      "iter 860: loss 1.7368, time 28.82ms, mfu 3.13%\n",
      "iter 870: loss 1.7009, time 28.87ms, mfu 3.14%\n",
      "iter 880: loss 1.7715, time 28.77ms, mfu 3.15%\n",
      "iter 890: loss 1.7266, time 28.77ms, mfu 3.16%\n",
      "iter 900: loss 1.7779, time 28.83ms, mfu 3.17%\n",
      "iter 910: loss 1.7395, time 28.93ms, mfu 3.17%\n",
      "iter 920: loss 1.6832, time 28.85ms, mfu 3.18%\n",
      "iter 930: loss 1.6246, time 28.82ms, mfu 3.18%\n",
      "iter 940: loss 1.7619, time 28.80ms, mfu 3.19%\n",
      "iter 950: loss 1.7199, time 28.88ms, mfu 3.19%\n",
      "iter 960: loss 1.7313, time 28.71ms, mfu 3.20%\n",
      "iter 970: loss 1.7099, time 28.74ms, mfu 3.20%\n",
      "iter 980: loss 1.6691, time 28.81ms, mfu 3.21%\n",
      "iter 990: loss 1.7141, time 28.90ms, mfu 3.21%\n",
      "step 1000: train loss 1.6203, val loss 1.8141\n",
      "saving checkpoint to out-shakespeare-char\n",
      "iter 1000: loss 1.6951, time 2736.95ms, mfu 2.89%\n",
      "iter 1010: loss 1.6554, time 29.22ms, mfu 2.92%\n",
      "iter 1020: loss 1.6847, time 29.07ms, mfu 2.95%\n",
      "iter 1030: loss 1.6934, time 29.01ms, mfu 2.97%\n",
      "iter 1040: loss 1.6421, time 29.02ms, mfu 3.00%\n",
      "iter 1050: loss 1.6144, time 29.03ms, mfu 3.02%\n",
      "iter 1060: loss 1.6176, time 29.05ms, mfu 3.04%\n",
      "iter 1070: loss 1.6449, time 28.98ms, mfu 3.06%\n",
      "iter 1080: loss 1.6457, time 28.90ms, mfu 3.07%\n",
      "iter 1090: loss 1.6752, time 28.82ms, mfu 3.09%\n",
      "iter 1100: loss 1.6737, time 28.74ms, mfu 3.10%\n",
      "iter 1110: loss 1.7003, time 28.83ms, mfu 3.12%\n",
      "iter 1120: loss 1.5896, time 28.90ms, mfu 3.13%\n",
      "iter 1130: loss 1.6338, time 28.75ms, mfu 3.14%\n",
      "iter 1140: loss 1.6894, time 28.81ms, mfu 3.15%\n",
      "iter 1150: loss 1.6088, time 28.83ms, mfu 3.16%\n",
      "iter 1160: loss 1.6686, time 28.89ms, mfu 3.16%\n",
      "iter 1170: loss 1.6199, time 28.98ms, mfu 3.17%\n",
      "iter 1180: loss 1.5925, time 28.76ms, mfu 3.18%\n",
      "iter 1190: loss 1.6610, time 29.24ms, mfu 3.18%\n",
      "iter 1200: loss 1.6510, time 28.87ms, mfu 3.18%\n",
      "iter 1210: loss 1.6510, time 28.92ms, mfu 3.19%\n",
      "iter 1220: loss 1.6438, time 28.99ms, mfu 3.19%\n",
      "iter 1230: loss 1.5431, time 28.83ms, mfu 3.19%\n",
      "iter 1240: loss 1.6250, time 28.92ms, mfu 3.20%\n",
      "step 1250: train loss 1.5339, val loss 1.7189\n",
      "saving checkpoint to out-shakespeare-char\n",
      "iter 1250: loss 1.6342, time 2720.25ms, mfu 2.88%\n",
      "iter 1260: loss 1.6250, time 29.43ms, mfu 2.91%\n",
      "iter 1270: loss 1.6303, time 28.89ms, mfu 2.94%\n",
      "iter 1280: loss 1.6489, time 29.27ms, mfu 2.96%\n",
      "iter 1290: loss 1.6024, time 28.83ms, mfu 2.99%\n",
      "iter 1300: loss 1.5993, time 28.83ms, mfu 3.01%\n",
      "iter 1310: loss 1.5809, time 28.95ms, mfu 3.03%\n",
      "iter 1320: loss 1.6421, time 28.85ms, mfu 3.05%\n",
      "iter 1330: loss 1.5558, time 28.90ms, mfu 3.07%\n",
      "iter 1340: loss 1.5296, time 28.95ms, mfu 3.09%\n",
      "iter 1350: loss 1.5579, time 28.94ms, mfu 3.10%\n",
      "iter 1360: loss 1.6276, time 29.00ms, mfu 3.11%\n",
      "iter 1370: loss 1.5676, time 28.98ms, mfu 3.12%\n",
      "iter 1380: loss 1.4783, time 28.97ms, mfu 3.13%\n",
      "iter 1390: loss 1.6299, time 29.10ms, mfu 3.14%\n",
      "iter 1400: loss 1.5698, time 28.97ms, mfu 3.15%\n",
      "iter 1410: loss 1.6205, time 29.08ms, mfu 3.15%\n",
      "iter 1420: loss 1.5617, time 29.06ms, mfu 3.16%\n",
      "iter 1430: loss 1.5454, time 29.00ms, mfu 3.16%\n",
      "iter 1440: loss 1.5321, time 29.01ms, mfu 3.17%\n",
      "iter 1450: loss 1.5862, time 28.99ms, mfu 3.17%\n",
      "iter 1460: loss 1.5358, time 29.02ms, mfu 3.18%\n",
      "iter 1470: loss 1.5008, time 28.97ms, mfu 3.18%\n",
      "iter 1480: loss 1.5647, time 29.03ms, mfu 3.18%\n",
      "iter 1490: loss 1.6162, time 28.96ms, mfu 3.19%\n",
      "step 1500: train loss 1.4603, val loss 1.6541\n",
      "saving checkpoint to out-shakespeare-char\n",
      "iter 1500: loss 1.5703, time 2719.70ms, mfu 2.87%\n",
      "iter 1510: loss 1.5884, time 29.34ms, mfu 2.90%\n",
      "iter 1520: loss 1.5760, time 29.05ms, mfu 2.93%\n",
      "iter 1530: loss 1.5588, time 29.02ms, mfu 2.96%\n",
      "iter 1540: loss 1.5235, time 29.42ms, mfu 2.98%\n",
      "iter 1550: loss 1.5149, time 28.98ms, mfu 3.00%\n",
      "iter 1560: loss 1.5569, time 29.15ms, mfu 3.02%\n",
      "iter 1570: loss 1.5349, time 28.95ms, mfu 3.04%\n",
      "iter 1580: loss 1.5172, time 29.03ms, mfu 3.06%\n",
      "iter 1590: loss 1.5230, time 29.00ms, mfu 3.07%\n",
      "iter 1600: loss 1.5376, time 28.98ms, mfu 3.09%\n",
      "iter 1610: loss 1.4747, time 29.68ms, mfu 3.09%\n",
      "iter 1620: loss 1.5591, time 28.94ms, mfu 3.11%\n",
      "iter 1630: loss 1.5177, time 28.91ms, mfu 3.12%\n",
      "iter 1640: loss 1.4755, time 29.01ms, mfu 3.13%\n",
      "iter 1650: loss 1.4472, time 29.23ms, mfu 3.13%\n",
      "iter 1660: loss 1.4701, time 28.80ms, mfu 3.14%\n",
      "iter 1670: loss 1.4862, time 28.95ms, mfu 3.15%\n",
      "iter 1680: loss 1.4684, time 28.98ms, mfu 3.16%\n",
      "iter 1690: loss 1.4939, time 28.87ms, mfu 3.16%\n",
      "iter 1700: loss 1.5204, time 29.04ms, mfu 3.17%\n",
      "iter 1710: loss 1.4419, time 29.00ms, mfu 3.17%\n",
      "iter 1720: loss 1.4443, time 28.83ms, mfu 3.18%\n",
      "iter 1730: loss 1.4617, time 28.91ms, mfu 3.18%\n",
      "iter 1740: loss 1.4938, time 28.89ms, mfu 3.19%\n",
      "step 1750: train loss 1.4077, val loss 1.6198\n",
      "saving checkpoint to out-shakespeare-char\n",
      "iter 1750: loss 1.4721, time 2739.57ms, mfu 2.87%\n",
      "iter 1760: loss 1.5121, time 28.78ms, mfu 2.91%\n",
      "iter 1770: loss 1.4911, time 28.87ms, mfu 2.94%\n",
      "iter 1780: loss 1.4142, time 28.81ms, mfu 2.97%\n",
      "iter 1790: loss 1.5127, time 28.94ms, mfu 2.99%\n",
      "iter 1800: loss 1.4620, time 28.80ms, mfu 3.02%\n",
      "iter 1810: loss 1.4660, time 28.88ms, mfu 3.04%\n",
      "iter 1820: loss 1.5547, time 28.90ms, mfu 3.06%\n",
      "iter 1830: loss 1.4230, time 28.93ms, mfu 3.07%\n",
      "iter 1840: loss 1.4636, time 29.10ms, mfu 3.09%\n",
      "iter 1850: loss 1.4907, time 28.98ms, mfu 3.10%\n",
      "iter 1860: loss 1.4221, time 28.95ms, mfu 3.11%\n",
      "iter 1870: loss 1.4697, time 28.77ms, mfu 3.12%\n",
      "iter 1880: loss 1.4769, time 28.89ms, mfu 3.13%\n",
      "iter 1890: loss 1.5524, time 29.08ms, mfu 3.14%\n",
      "iter 1900: loss 1.4053, time 28.96ms, mfu 3.15%\n",
      "iter 1910: loss 1.4616, time 29.03ms, mfu 3.15%\n",
      "iter 1920: loss 1.4173, time 28.97ms, mfu 3.16%\n",
      "iter 1930: loss 1.3946, time 29.01ms, mfu 3.17%\n",
      "iter 1940: loss 1.4340, time 29.00ms, mfu 3.17%\n",
      "iter 1950: loss 1.4586, time 28.89ms, mfu 3.18%\n",
      "iter 1960: loss 1.4107, time 29.10ms, mfu 3.18%\n",
      "iter 1970: loss 1.5212, time 29.02ms, mfu 3.18%\n",
      "iter 1980: loss 1.5106, time 29.33ms, mfu 3.18%\n",
      "iter 1990: loss 1.4669, time 29.02ms, mfu 3.18%\n",
      "step 2000: train loss 1.3632, val loss 1.5979\n",
      "saving checkpoint to out-shakespeare-char\n",
      "iter 2000: loss 1.5038, time 2745.55ms, mfu 2.87%\n",
      "iter 2010: loss 1.4574, time 29.01ms, mfu 2.90%\n",
      "iter 2020: loss 1.4856, time 28.98ms, mfu 2.93%\n",
      "iter 2030: loss 1.4638, time 28.93ms, mfu 2.96%\n",
      "iter 2040: loss 1.4153, time 28.94ms, mfu 2.99%\n",
      "iter 2050: loss 1.4346, time 28.94ms, mfu 3.01%\n",
      "iter 2060: loss 1.4334, time 28.99ms, mfu 3.03%\n",
      "iter 2070: loss 1.3958, time 29.02ms, mfu 3.05%\n",
      "iter 2080: loss 1.4076, time 28.90ms, mfu 3.07%\n",
      "iter 2090: loss 1.4744, time 29.08ms, mfu 3.08%\n",
      "iter 2100: loss 1.3736, time 28.93ms, mfu 3.09%\n",
      "iter 2110: loss 1.4044, time 29.02ms, mfu 3.11%\n",
      "iter 2120: loss 1.3993, time 29.03ms, mfu 3.12%\n",
      "iter 2130: loss 1.3981, time 29.05ms, mfu 3.13%\n",
      "iter 2140: loss 1.4676, time 29.04ms, mfu 3.13%\n",
      "iter 2150: loss 1.4283, time 29.01ms, mfu 3.14%\n",
      "iter 2160: loss 1.3719, time 29.00ms, mfu 3.15%\n",
      "iter 2170: loss 1.4755, time 29.23ms, mfu 3.15%\n",
      "iter 2180: loss 1.3947, time 29.00ms, mfu 3.16%\n",
      "iter 2190: loss 1.4314, time 28.98ms, mfu 3.16%\n",
      "iter 2200: loss 1.4151, time 29.01ms, mfu 3.17%\n",
      "iter 2210: loss 1.4343, time 28.91ms, mfu 3.17%\n",
      "iter 2220: loss 1.3962, time 28.94ms, mfu 3.18%\n",
      "iter 2230: loss 1.4142, time 28.88ms, mfu 3.18%\n",
      "iter 2240: loss 1.4429, time 28.94ms, mfu 3.19%\n",
      "step 2250: train loss 1.3342, val loss 1.5699\n",
      "saving checkpoint to out-shakespeare-char\n",
      "iter 2250: loss 1.3852, time 3024.87ms, mfu 2.87%\n",
      "iter 2260: loss 1.4111, time 29.06ms, mfu 2.90%\n",
      "iter 2270: loss 1.4187, time 29.07ms, mfu 2.93%\n",
      "iter 2280: loss 1.3891, time 29.02ms, mfu 2.96%\n",
      "iter 2290: loss 1.3699, time 28.99ms, mfu 2.99%\n",
      "iter 2300: loss 1.3761, time 29.00ms, mfu 3.01%\n",
      "iter 2310: loss 1.4413, time 29.03ms, mfu 3.03%\n",
      "iter 2320: loss 1.4329, time 29.02ms, mfu 3.05%\n",
      "iter 2330: loss 1.3524, time 29.02ms, mfu 3.06%\n",
      "iter 2340: loss 1.3756, time 28.94ms, mfu 3.08%\n",
      "iter 2350: loss 1.3809, time 28.99ms, mfu 3.09%\n",
      "iter 2360: loss 1.4110, time 28.95ms, mfu 3.11%\n",
      "iter 2370: loss 1.3595, time 28.95ms, mfu 3.12%\n",
      "iter 2380: loss 1.4217, time 28.94ms, mfu 3.13%\n",
      "iter 2390: loss 1.4385, time 28.98ms, mfu 3.14%\n",
      "iter 2400: loss 1.3720, time 28.95ms, mfu 3.14%\n",
      "iter 2410: loss 1.3186, time 29.03ms, mfu 3.15%\n",
      "iter 2420: loss 1.4239, time 28.92ms, mfu 3.16%\n",
      "iter 2430: loss 1.4466, time 28.97ms, mfu 3.16%\n",
      "iter 2440: loss 1.4475, time 28.87ms, mfu 3.17%\n",
      "iter 2450: loss 1.3812, time 29.03ms, mfu 3.17%\n",
      "iter 2460: loss 1.4220, time 28.90ms, mfu 3.18%\n",
      "iter 2470: loss 1.4410, time 28.95ms, mfu 3.18%\n",
      "iter 2480: loss 1.3565, time 28.92ms, mfu 3.19%\n",
      "iter 2490: loss 1.3586, time 28.99ms, mfu 3.19%\n",
      "step 2500: train loss 1.3045, val loss 1.5396\n",
      "saving checkpoint to out-shakespeare-char\n",
      "iter 2500: loss 1.3555, time 2780.61ms, mfu 2.87%\n",
      "iter 2510: loss 1.4087, time 29.30ms, mfu 2.90%\n",
      "iter 2520: loss 1.3495, time 29.26ms, mfu 2.93%\n",
      "iter 2530: loss 1.3580, time 29.16ms, mfu 2.96%\n",
      "iter 2540: loss 1.3971, time 29.05ms, mfu 2.98%\n",
      "iter 2550: loss 1.3609, time 29.11ms, mfu 3.00%\n",
      "iter 2560: loss 1.4335, time 29.13ms, mfu 3.02%\n",
      "iter 2570: loss 1.3525, time 29.32ms, mfu 3.04%\n",
      "iter 2580: loss 1.3642, time 29.09ms, mfu 3.06%\n",
      "iter 2590: loss 1.3658, time 29.17ms, mfu 3.07%\n",
      "iter 2600: loss 1.3739, time 29.04ms, mfu 3.08%\n",
      "iter 2610: loss 1.4064, time 29.16ms, mfu 3.09%\n",
      "iter 2620: loss 1.4252, time 29.11ms, mfu 3.10%\n",
      "iter 2630: loss 1.3718, time 29.13ms, mfu 3.11%\n",
      "iter 2640: loss 1.3599, time 29.17ms, mfu 3.12%\n",
      "iter 2650: loss 1.3269, time 29.20ms, mfu 3.13%\n",
      "iter 2660: loss 1.3303, time 29.22ms, mfu 3.13%\n",
      "iter 2670: loss 1.2893, time 29.11ms, mfu 3.14%\n",
      "iter 2680: loss 1.3668, time 29.15ms, mfu 3.15%\n",
      "iter 2690: loss 1.3057, time 29.08ms, mfu 3.15%\n",
      "iter 2700: loss 1.3773, time 29.11ms, mfu 3.16%\n",
      "iter 2710: loss 1.3205, time 29.28ms, mfu 3.16%\n",
      "iter 2720: loss 1.3752, time 29.16ms, mfu 3.16%\n",
      "iter 2730: loss 1.2794, time 29.19ms, mfu 3.17%\n",
      "iter 2740: loss 1.3560, time 29.02ms, mfu 3.17%\n",
      "step 2750: train loss 1.2660, val loss 1.5341\n",
      "saving checkpoint to out-shakespeare-char\n",
      "iter 2750: loss 1.3606, time 2780.04ms, mfu 2.86%\n",
      "iter 2760: loss 1.3314, time 29.26ms, mfu 2.89%\n",
      "iter 2770: loss 1.3355, time 29.17ms, mfu 2.92%\n",
      "iter 2780: loss 1.4001, time 29.19ms, mfu 2.95%\n",
      "iter 2790: loss 1.3351, time 29.13ms, mfu 2.97%\n",
      "iter 2800: loss 1.3835, time 29.15ms, mfu 2.99%\n",
      "iter 2810: loss 1.3898, time 29.59ms, mfu 3.01%\n",
      "iter 2820: loss 1.4338, time 29.13ms, mfu 3.03%\n",
      "iter 2830: loss 1.3399, time 29.24ms, mfu 3.04%\n",
      "iter 2840: loss 1.3429, time 29.11ms, mfu 3.06%\n",
      "iter 2850: loss 1.3477, time 29.09ms, mfu 3.07%\n",
      "iter 2860: loss 1.3694, time 29.17ms, mfu 3.09%\n",
      "iter 2870: loss 1.2861, time 29.15ms, mfu 3.10%\n",
      "iter 2880: loss 1.3827, time 29.36ms, mfu 3.10%\n",
      "iter 2890: loss 1.3386, time 29.15ms, mfu 3.11%\n",
      "iter 2900: loss 1.2808, time 29.17ms, mfu 3.12%\n",
      "iter 2910: loss 1.3035, time 29.13ms, mfu 3.13%\n",
      "iter 2920: loss 1.2945, time 29.12ms, mfu 3.14%\n",
      "iter 2930: loss 1.3679, time 29.30ms, mfu 3.14%\n",
      "iter 2940: loss 1.3482, time 29.14ms, mfu 3.15%\n",
      "iter 2950: loss 1.3116, time 29.11ms, mfu 3.15%\n",
      "iter 2960: loss 1.3270, time 29.05ms, mfu 3.16%\n",
      "iter 2970: loss 1.3692, time 29.15ms, mfu 3.16%\n",
      "iter 2980: loss 1.3807, time 29.13ms, mfu 3.16%\n",
      "iter 2990: loss 1.3587, time 29.12ms, mfu 3.17%\n",
      "step 3000: train loss 1.2482, val loss 1.5021\n",
      "saving checkpoint to out-shakespeare-char\n",
      "iter 3000: loss 1.2571, time 2784.97ms, mfu 2.85%\n",
      "iter 3010: loss 1.2387, time 29.43ms, mfu 2.89%\n",
      "iter 3020: loss 1.3326, time 29.20ms, mfu 2.92%\n",
      "iter 3030: loss 1.3028, time 29.18ms, mfu 2.94%\n",
      "iter 3040: loss 1.3086, time 29.18ms, mfu 2.97%\n",
      "iter 3050: loss 1.3202, time 29.55ms, mfu 2.99%\n",
      "iter 3060: loss 1.2638, time 29.26ms, mfu 3.01%\n",
      "iter 3070: loss 1.2488, time 29.15ms, mfu 3.03%\n",
      "iter 3080: loss 1.2889, time 29.15ms, mfu 3.04%\n",
      "iter 3090: loss 1.3395, time 29.03ms, mfu 3.06%\n",
      "iter 3100: loss 1.3184, time 29.19ms, mfu 3.07%\n",
      "iter 3110: loss 1.3204, time 29.10ms, mfu 3.09%\n",
      "iter 3120: loss 1.2730, time 29.14ms, mfu 3.10%\n",
      "iter 3130: loss 1.3180, time 29.26ms, mfu 3.11%\n",
      "iter 3140: loss 1.3453, time 29.13ms, mfu 3.11%\n",
      "iter 3150: loss 1.2647, time 29.11ms, mfu 3.12%\n",
      "iter 3160: loss 1.2491, time 29.10ms, mfu 3.13%\n",
      "iter 3170: loss 1.2824, time 29.08ms, mfu 3.14%\n",
      "iter 3180: loss 1.3326, time 29.14ms, mfu 3.14%\n",
      "iter 3190: loss 1.2628, time 29.13ms, mfu 3.15%\n",
      "iter 3200: loss 1.3208, time 29.30ms, mfu 3.15%\n",
      "iter 3210: loss 1.3033, time 29.15ms, mfu 3.16%\n",
      "iter 3220: loss 1.2683, time 29.16ms, mfu 3.16%\n",
      "iter 3230: loss 1.2382, time 29.05ms, mfu 3.17%\n",
      "iter 3240: loss 1.2884, time 29.14ms, mfu 3.17%\n",
      "step 3250: train loss 1.2228, val loss 1.5013\n",
      "saving checkpoint to out-shakespeare-char\n",
      "iter 3250: loss 1.2689, time 3068.45ms, mfu 2.85%\n",
      "iter 3260: loss 1.2599, time 29.10ms, mfu 2.89%\n",
      "iter 3270: loss 1.2542, time 29.16ms, mfu 2.92%\n",
      "iter 3280: loss 1.2825, time 29.20ms, mfu 2.95%\n",
      "iter 3290: loss 1.2935, time 29.13ms, mfu 2.97%\n",
      "iter 3300: loss 1.3645, time 29.17ms, mfu 2.99%\n",
      "iter 3310: loss 1.3037, time 29.16ms, mfu 3.01%\n",
      "iter 3320: loss 1.2458, time 29.14ms, mfu 3.03%\n",
      "iter 3330: loss 1.2803, time 29.13ms, mfu 3.05%\n",
      "iter 3340: loss 1.2871, time 29.08ms, mfu 3.06%\n",
      "iter 3350: loss 1.3414, time 29.35ms, mfu 3.08%\n",
      "iter 3360: loss 1.2809, time 29.15ms, mfu 3.09%\n",
      "iter 3370: loss 1.3126, time 29.21ms, mfu 3.10%\n",
      "iter 3380: loss 1.3507, time 29.11ms, mfu 3.11%\n",
      "iter 3390: loss 1.3331, time 29.15ms, mfu 3.12%\n",
      "iter 3400: loss 1.2832, time 29.17ms, mfu 3.12%\n",
      "iter 3410: loss 1.2666, time 29.16ms, mfu 3.13%\n",
      "iter 3420: loss 1.2450, time 29.20ms, mfu 3.14%\n",
      "iter 3430: loss 1.2115, time 29.16ms, mfu 3.14%\n",
      "iter 3440: loss 1.2398, time 29.19ms, mfu 3.15%\n",
      "iter 3450: loss 1.2989, time 29.19ms, mfu 3.15%\n",
      "iter 3460: loss 1.2134, time 29.09ms, mfu 3.16%\n",
      "iter 3470: loss 1.2033, time 29.17ms, mfu 3.16%\n",
      "iter 3480: loss 1.3037, time 29.12ms, mfu 3.16%\n",
      "iter 3490: loss 1.2197, time 29.24ms, mfu 3.17%\n",
      "step 3500: train loss 1.2079, val loss 1.4920\n",
      "saving checkpoint to out-shakespeare-char\n",
      "iter 3500: loss 1.3205, time 2782.39ms, mfu 2.85%\n",
      "iter 3510: loss 1.2335, time 29.09ms, mfu 2.89%\n",
      "iter 3520: loss 1.2840, time 29.75ms, mfu 2.91%\n",
      "iter 3530: loss 1.3134, time 29.14ms, mfu 2.94%\n",
      "iter 3540: loss 1.2593, time 29.13ms, mfu 2.97%\n",
      "iter 3550: loss 1.2959, time 29.15ms, mfu 2.99%\n",
      "iter 3560: loss 1.2614, time 29.20ms, mfu 3.01%\n",
      "iter 3570: loss 1.3524, time 29.40ms, mfu 3.03%\n",
      "iter 3580: loss 1.2694, time 29.16ms, mfu 3.04%\n",
      "iter 3590: loss 1.2747, time 29.18ms, mfu 3.06%\n",
      "iter 3600: loss 1.2800, time 29.07ms, mfu 3.07%\n",
      "iter 3610: loss 1.2466, time 29.14ms, mfu 3.08%\n",
      "iter 3620: loss 1.2651, time 29.17ms, mfu 3.10%\n",
      "iter 3630: loss 1.2554, time 29.14ms, mfu 3.11%\n",
      "iter 3640: loss 1.2199, time 29.32ms, mfu 3.11%\n",
      "iter 3650: loss 1.2945, time 29.16ms, mfu 3.12%\n",
      "iter 3660: loss 1.2536, time 29.20ms, mfu 3.13%\n",
      "iter 3670: loss 1.2299, time 29.10ms, mfu 3.14%\n",
      "iter 3680: loss 1.2775, time 29.10ms, mfu 3.14%\n",
      "iter 3690: loss 1.2750, time 29.11ms, mfu 3.15%\n",
      "iter 3700: loss 1.2892, time 29.16ms, mfu 3.15%\n",
      "iter 3710: loss 1.2301, time 29.31ms, mfu 3.15%\n",
      "iter 3720: loss 1.2498, time 29.16ms, mfu 3.16%\n",
      "iter 3730: loss 1.2826, time 29.13ms, mfu 3.16%\n",
      "iter 3740: loss 1.1856, time 29.18ms, mfu 3.17%\n",
      "step 3750: train loss 1.1842, val loss 1.4922\n",
      "iter 3750: loss 1.2619, time 2352.58ms, mfu 2.85%\n",
      "iter 3760: loss 1.2877, time 29.12ms, mfu 2.89%\n",
      "iter 3770: loss 1.2521, time 29.05ms, mfu 2.92%\n",
      "iter 3780: loss 1.2442, time 29.06ms, mfu 2.95%\n",
      "iter 3790: loss 1.3207, time 29.19ms, mfu 2.97%\n",
      "iter 3800: loss 1.2377, time 28.98ms, mfu 3.00%\n",
      "iter 3810: loss 1.2601, time 29.12ms, mfu 3.02%\n",
      "iter 3820: loss 1.3252, time 28.99ms, mfu 3.04%\n",
      "iter 3830: loss 1.2682, time 29.12ms, mfu 3.05%\n",
      "iter 3840: loss 1.2853, time 28.77ms, mfu 3.07%\n",
      "iter 3850: loss 1.3183, time 29.09ms, mfu 3.08%\n",
      "iter 3860: loss 1.2494, time 28.95ms, mfu 3.10%\n",
      "iter 3870: loss 1.2310, time 29.03ms, mfu 3.11%\n",
      "iter 3880: loss 1.2230, time 28.97ms, mfu 3.12%\n",
      "iter 3890: loss 1.2574, time 29.20ms, mfu 3.13%\n",
      "iter 3900: loss 1.2420, time 29.04ms, mfu 3.13%\n",
      "iter 3910: loss 1.2069, time 29.10ms, mfu 3.14%\n",
      "iter 3920: loss 1.2515, time 29.09ms, mfu 3.15%\n",
      "iter 3930: loss 1.2726, time 29.04ms, mfu 3.15%\n",
      "iter 3940: loss 1.2151, time 29.13ms, mfu 3.16%\n",
      "iter 3950: loss 1.1881, time 29.21ms, mfu 3.16%\n",
      "iter 3960: loss 1.2279, time 29.13ms, mfu 3.16%\n",
      "iter 3970: loss 1.2510, time 29.07ms, mfu 3.17%\n",
      "iter 3980: loss 1.2587, time 29.09ms, mfu 3.17%\n",
      "iter 3990: loss 1.2528, time 29.08ms, mfu 3.18%\n",
      "step 4000: train loss 1.1753, val loss 1.4716\n",
      "saving checkpoint to out-shakespeare-char\n",
      "iter 4000: loss 1.2061, time 2761.72ms, mfu 2.86%\n",
      "iter 4010: loss 1.2458, time 28.98ms, mfu 2.90%\n",
      "iter 4020: loss 1.2615, time 29.00ms, mfu 2.93%\n",
      "iter 4030: loss 1.2751, time 29.10ms, mfu 2.96%\n",
      "iter 4040: loss 1.2509, time 29.10ms, mfu 2.98%\n",
      "iter 4050: loss 1.2320, time 28.95ms, mfu 3.00%\n",
      "iter 4060: loss 1.2234, time 28.99ms, mfu 3.02%\n",
      "iter 4070: loss 1.2985, time 29.14ms, mfu 3.04%\n",
      "iter 4080: loss 1.2186, time 29.12ms, mfu 3.06%\n",
      "iter 4090: loss 1.2629, time 29.09ms, mfu 3.07%\n",
      "iter 4100: loss 1.1695, time 29.18ms, mfu 3.08%\n",
      "iter 4110: loss 1.3134, time 29.13ms, mfu 3.10%\n",
      "iter 4120: loss 1.3048, time 29.18ms, mfu 3.11%\n",
      "iter 4130: loss 1.1795, time 29.16ms, mfu 3.11%\n",
      "iter 4140: loss 1.2158, time 29.29ms, mfu 3.12%\n",
      "iter 4150: loss 1.2897, time 29.19ms, mfu 3.13%\n",
      "iter 4160: loss 1.2518, time 29.21ms, mfu 3.13%\n",
      "iter 4170: loss 1.2976, time 29.16ms, mfu 3.14%\n",
      "iter 4180: loss 1.1869, time 29.18ms, mfu 3.15%\n",
      "iter 4190: loss 1.2870, time 29.15ms, mfu 3.15%\n",
      "iter 4200: loss 1.2652, time 29.14ms, mfu 3.15%\n",
      "iter 4210: loss 1.2016, time 29.11ms, mfu 3.16%\n",
      "iter 4220: loss 1.2164, time 29.16ms, mfu 3.16%\n",
      "iter 4230: loss 1.2459, time 29.20ms, mfu 3.17%\n",
      "iter 4240: loss 1.2471, time 29.09ms, mfu 3.17%\n",
      "step 4250: train loss 1.1541, val loss 1.4669\n",
      "saving checkpoint to out-shakespeare-char\n",
      "iter 4250: loss 1.2400, time 2752.97ms, mfu 2.86%\n",
      "iter 4260: loss 1.1915, time 29.28ms, mfu 2.89%\n",
      "iter 4270: loss 1.2634, time 29.32ms, mfu 2.92%\n",
      "iter 4280: loss 1.2494, time 29.41ms, mfu 2.94%\n",
      "iter 4290: loss 1.2534, time 29.35ms, mfu 2.97%\n",
      "iter 4300: loss 1.1762, time 29.30ms, mfu 2.99%\n",
      "iter 4310: loss 1.2288, time 29.34ms, mfu 3.01%\n",
      "iter 4320: loss 1.2488, time 29.31ms, mfu 3.02%\n",
      "iter 4330: loss 1.2741, time 29.32ms, mfu 3.04%\n",
      "iter 4340: loss 1.2068, time 29.34ms, mfu 3.05%\n",
      "iter 4350: loss 1.2323, time 29.33ms, mfu 3.06%\n",
      "iter 4360: loss 1.2167, time 29.50ms, mfu 3.07%\n",
      "iter 4370: loss 1.1792, time 29.39ms, mfu 3.08%\n",
      "iter 4380: loss 1.2163, time 29.43ms, mfu 3.09%\n",
      "iter 4390: loss 1.1988, time 29.37ms, mfu 3.10%\n",
      "iter 4400: loss 1.2035, time 29.49ms, mfu 3.11%\n",
      "iter 4410: loss 1.2082, time 29.38ms, mfu 3.11%\n",
      "iter 4420: loss 1.2553, time 29.46ms, mfu 3.12%\n",
      "iter 4430: loss 1.2371, time 29.30ms, mfu 3.12%\n",
      "iter 4440: loss 1.2539, time 29.36ms, mfu 3.13%\n",
      "iter 4450: loss 1.2806, time 29.34ms, mfu 3.13%\n",
      "iter 4460: loss 1.2266, time 29.47ms, mfu 3.14%\n",
      "iter 4470: loss 1.2226, time 29.29ms, mfu 3.14%\n",
      "iter 4480: loss 1.2594, time 29.25ms, mfu 3.14%\n",
      "iter 4490: loss 1.2065, time 29.32ms, mfu 3.15%\n",
      "step 4500: train loss 1.1431, val loss 1.4714\n",
      "iter 4500: loss 1.2725, time 2394.01ms, mfu 2.84%\n",
      "iter 4510: loss 1.1959, time 29.29ms, mfu 2.87%\n",
      "iter 4520: loss 1.2345, time 29.43ms, mfu 2.90%\n",
      "iter 4530: loss 1.2352, time 29.20ms, mfu 2.93%\n",
      "iter 4540: loss 1.2369, time 29.29ms, mfu 2.95%\n",
      "iter 4550: loss 1.1909, time 29.32ms, mfu 2.98%\n",
      "iter 4560: loss 1.2527, time 29.26ms, mfu 3.00%\n",
      "iter 4570: loss 1.2111, time 29.26ms, mfu 3.02%\n",
      "iter 4580: loss 1.2426, time 29.40ms, mfu 3.03%\n",
      "iter 4590: loss 1.2163, time 29.21ms, mfu 3.05%\n",
      "iter 4600: loss 1.1948, time 29.29ms, mfu 3.06%\n",
      "iter 4610: loss 1.2733, time 29.64ms, mfu 3.07%\n",
      "iter 4620: loss 1.1835, time 29.31ms, mfu 3.08%\n",
      "iter 4630: loss 1.1604, time 29.29ms, mfu 3.09%\n",
      "iter 4640: loss 1.2742, time 29.29ms, mfu 3.10%\n",
      "iter 4650: loss 1.2590, time 29.24ms, mfu 3.11%\n",
      "iter 4660: loss 1.2108, time 29.27ms, mfu 3.12%\n",
      "iter 4670: loss 1.2360, time 29.24ms, mfu 3.12%\n",
      "iter 4680: loss 1.2223, time 29.30ms, mfu 3.13%\n",
      "iter 4690: loss 1.1841, time 29.33ms, mfu 3.13%\n",
      "iter 4700: loss 1.2296, time 29.37ms, mfu 3.14%\n",
      "iter 4710: loss 1.1539, time 29.28ms, mfu 3.14%\n",
      "iter 4720: loss 1.1833, time 29.33ms, mfu 3.14%\n",
      "iter 4730: loss 1.2141, time 29.38ms, mfu 3.15%\n",
      "iter 4740: loss 1.1765, time 29.23ms, mfu 3.15%\n",
      "step 4750: train loss 1.1330, val loss 1.4773\n",
      "iter 4750: loss 1.2354, time 2401.52ms, mfu 2.84%\n",
      "iter 4760: loss 1.1872, time 29.43ms, mfu 2.87%\n",
      "iter 4770: loss 1.1967, time 29.32ms, mfu 2.90%\n",
      "iter 4780: loss 1.2344, time 29.23ms, mfu 2.93%\n",
      "iter 4790: loss 1.2271, time 29.31ms, mfu 2.96%\n",
      "iter 4800: loss 1.1615, time 29.22ms, mfu 2.98%\n",
      "iter 4810: loss 1.1843, time 29.26ms, mfu 3.00%\n",
      "iter 4820: loss 1.2155, time 29.28ms, mfu 3.02%\n",
      "iter 4830: loss 1.1897, time 29.46ms, mfu 3.03%\n",
      "iter 4840: loss 1.1833, time 29.23ms, mfu 3.05%\n",
      "iter 4850: loss 1.2149, time 29.30ms, mfu 3.06%\n",
      "iter 4860: loss 1.2123, time 29.33ms, mfu 3.07%\n",
      "iter 4870: loss 1.1981, time 29.28ms, mfu 3.08%\n",
      "iter 4880: loss 1.2145, time 29.24ms, mfu 3.09%\n",
      "iter 4890: loss 1.2636, time 29.37ms, mfu 3.10%\n",
      "iter 4900: loss 1.2262, time 29.21ms, mfu 3.11%\n",
      "iter 4910: loss 1.2363, time 29.29ms, mfu 3.12%\n",
      "iter 4920: loss 1.1892, time 29.50ms, mfu 3.12%\n",
      "iter 4930: loss 1.1444, time 29.24ms, mfu 3.13%\n",
      "iter 4940: loss 1.2334, time 29.31ms, mfu 3.13%\n",
      "iter 4950: loss 1.1990, time 29.32ms, mfu 3.14%\n",
      "iter 4960: loss 1.2042, time 29.15ms, mfu 3.14%\n",
      "iter 4970: loss 1.1959, time 29.21ms, mfu 3.15%\n",
      "iter 4980: loss 1.1512, time 29.69ms, mfu 3.15%\n",
      "iter 4990: loss 1.2401, time 29.32ms, mfu 3.15%\n",
      "step 5000: train loss 1.1268, val loss 1.4763\n",
      "iter 5000: loss 1.2247, time 2395.40ms, mfu 2.84%\n"
     ]
    }
   ],
   "source": [
    "%%time\n",
    "# training loop\n",
    "X, Y = get_batch('train') # fetch the very first batch\n",
    "t0 = time.time()\n",
    "local_iter_num = 0 # number of iterations in the lifetime of this process\n",
    "raw_model = model.module if ddp else model # unwrap DDP container if needed\n",
    "running_mfu = -1.0\n",
    "while True:\n",
    "\n",
    "    # determine and set the learning rate for this iteration\n",
    "    lr = get_lr(iter_num) if decay_lr else learning_rate\n",
    "    for param_group in optimizer.param_groups:\n",
    "        param_group['lr'] = lr\n",
    "\n",
    "    # evaluate the loss on train/val sets and write checkpoints\n",
    "    if iter_num % eval_interval == 0 and master_process:\n",
    "        losses = estimate_loss()\n",
    "        print(f\"step {iter_num}: train loss {losses['train']:.4f}, val loss {losses['val']:.4f}\")\n",
    "        if wandb_log:\n",
    "            wandb.log({\n",
    "                \"iter\": iter_num,\n",
    "                \"train/loss\": losses['train'],\n",
    "                \"val/loss\": losses['val'],\n",
    "                \"lr\": lr,\n",
    "                \"mfu\": running_mfu*100, # convert to percentage\n",
    "            })\n",
    "        if losses['val'] < best_val_loss or always_save_checkpoint:\n",
    "            best_val_loss = losses['val']\n",
    "            if iter_num > 0:\n",
    "                checkpoint = {\n",
    "                    'model': raw_model.state_dict(),\n",
    "                    'optimizer': optimizer.state_dict(),\n",
    "                    'model_args': model_args,\n",
    "                    'iter_num': iter_num,\n",
    "                    'best_val_loss': best_val_loss,\n",
    "                    'config': config,\n",
    "                }\n",
    "                print(f\"saving checkpoint to {out_dir}\")\n",
    "                torch.save(checkpoint, os.path.join(out_dir, 'ckpt.pt'))\n",
    "    if iter_num == 0 and eval_only:\n",
    "        break\n",
    "\n",
    "    # forward backward update, with optional gradient accumulation to simulate larger batch size\n",
    "    # and using the GradScaler if data type is float16\n",
    "    for micro_step in range(gradient_accumulation_steps):\n",
    "        if ddp:\n",
    "            # in DDP training we only need to sync gradients at the last micro step.\n",
    "            # the official way to do this is with model.no_sync() context manager, but\n",
    "            # I really dislike that this bloats the code and forces us to repeat code\n",
    "            # looking at the source of that context manager, it just toggles this variable\n",
    "            model.require_backward_grad_sync = (micro_step == gradient_accumulation_steps - 1)\n",
    "        with ctx:\n",
    "            logits, loss = model(X, Y)\n",
    "            loss = loss / gradient_accumulation_steps # scale the loss to account for gradient accumulation\n",
    "        # immediately async prefetch next batch while model is doing the forward pass on the GPU\n",
    "        X, Y = get_batch('train')\n",
    "        # backward pass, with gradient scaling if training in fp16\n",
    "        scaler.scale(loss).backward()\n",
    "    # clip the gradient\n",
    "    if grad_clip != 0.0:\n",
    "        scaler.unscale_(optimizer)\n",
    "        torch.nn.utils.clip_grad_norm_(model.parameters(), grad_clip)\n",
    "    # step the optimizer and scaler if training in fp16\n",
    "    scaler.step(optimizer)\n",
    "    scaler.update()\n",
    "    # flush the gradients as soon as we can, no need for this memory anymore\n",
    "    optimizer.zero_grad(set_to_none=True)\n",
    "\n",
    "    # timing and logging\n",
    "    t1 = time.time()\n",
    "    dt = t1 - t0\n",
    "    t0 = t1\n",
    "    if iter_num % log_interval == 0 and master_process:\n",
    "        # get loss as float. note: this is a CPU-GPU sync point\n",
    "        # scale up to undo the division above, approximating the true total loss (exact would have been a sum)\n",
    "        lossf = loss.item() * gradient_accumulation_steps\n",
    "        if local_iter_num >= 5: # let the training loop settle a bit\n",
    "            mfu = raw_model.estimate_mfu(batch_size * gradient_accumulation_steps, dt)\n",
    "            running_mfu = mfu if running_mfu == -1.0 else 0.9*running_mfu + 0.1*mfu\n",
    "        print(f\"iter {iter_num}: loss {lossf:.4f}, time {dt*1000:.2f}ms, mfu {running_mfu*100:.2f}%\")\n",
    "    iter_num += 1\n",
    "    local_iter_num += 1\n",
    "\n",
    "    # termination conditions\n",
    "    if iter_num > max_iters:\n",
    "        break"
   ]
  },
  {
   "attachments": {},
   "cell_type": "markdown",
   "metadata": {},
   "source": [
    "#### Sample.py"
   ]
  },
  {
   "attachments": {},
   "cell_type": "markdown",
   "metadata": {},
   "source": []
  }
 ],
 "metadata": {
  "kernelspec": {
   "display_name": "Python 3",
   "language": "python",
   "name": "python3"
  },
  "language_info": {
   "codemirror_mode": {
    "name": "ipython",
    "version": 3
   },
   "file_extension": ".py",
   "mimetype": "text/x-python",
   "name": "python",
   "nbconvert_exporter": "python",
   "pygments_lexer": "ipython3",
   "version": "3.8.10"
  },
  "orig_nbformat": 4
 },
 "nbformat": 4,
 "nbformat_minor": 2
}
